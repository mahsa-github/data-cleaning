{
 "cells": [
  {
   "cell_type": "code",
   "execution_count": 18,
   "metadata": {},
   "outputs": [],
   "source": [
    "from pandas import read_csv\n",
    "data = read_csv('https://raw.githubusercontent.com/jbrownlee/Datasets/master/horse-colic.csv', header=None, na_values = \"?\")"
   ]
  },
  {
   "cell_type": "code",
   "execution_count": 23,
   "metadata": {},
   "outputs": [
    {
     "name": "stdout",
     "output_type": "stream",
     "text": [
      "> 0, Missing : 1 (0.3%)\n",
      "> 1, Missing : 0 (0.0%)\n",
      "> 2, Missing : 0 (0.0%)\n",
      "> 3, Missing : 60 (20.0%)\n",
      "> 4, Missing : 24 (8.0%)\n",
      "> 5, Missing : 58 (19.3%)\n",
      "> 6, Missing : 56 (18.7%)\n",
      "> 7, Missing : 69 (23.0%)\n",
      "> 8, Missing : 47 (15.7%)\n",
      "> 9, Missing : 32 (10.7%)\n",
      "> 10, Missing : 55 (18.3%)\n",
      "> 11, Missing : 44 (14.7%)\n",
      "> 12, Missing : 56 (18.7%)\n",
      "> 13, Missing : 104 (34.7%)\n",
      "> 14, Missing : 106 (35.3%)\n",
      "> 15, Missing : 247 (82.3%)\n",
      "> 16, Missing : 102 (34.0%)\n",
      "> 17, Missing : 118 (39.3%)\n",
      "> 18, Missing : 29 (9.7%)\n",
      "> 19, Missing : 33 (11.0%)\n",
      "> 20, Missing : 165 (55.0%)\n",
      "> 21, Missing : 198 (66.0%)\n",
      "> 22, Missing : 1 (0.3%)\n",
      "> 23, Missing : 0 (0.0%)\n",
      "> 24, Missing : 0 (0.0%)\n",
      "> 25, Missing : 0 (0.0%)\n",
      "> 26, Missing : 0 (0.0%)\n",
      "> 27, Missing : 0 (0.0%)\n"
     ]
    }
   ],
   "source": [
    "# to show the number of rows with missing values for each column\n",
    "for i in range(data.shape[1]): \n",
    "    missing = data[[i]].isnull().sum() #count number of rows with missing values \n",
    "    missing_perc = missing / data.shape[0]*100\n",
    "    print('> %d, Missing : %d (%.1f%%)' % (i,missing, missing_perc))"
   ]
  },
  {
   "cell_type": "markdown",
   "metadata": {},
   "source": [
    "### Simple Imputer"
   ]
  },
  {
   "cell_type": "code",
   "execution_count": 29,
   "metadata": {},
   "outputs": [
    {
     "name": "stderr",
     "output_type": "stream",
     "text": [
      "<frozen importlib._bootstrap>:219: RuntimeWarning: numpy.ufunc size changed, may indicate binary incompatibility. Expected 192 from C header, got 216 from PyObject\n",
      "<frozen importlib._bootstrap>:219: RuntimeWarning: numpy.ufunc size changed, may indicate binary incompatibility. Expected 192 from C header, got 216 from PyObject\n",
      "<frozen importlib._bootstrap>:219: RuntimeWarning: numpy.ufunc size changed, may indicate binary incompatibility. Expected 192 from C header, got 216 from PyObject\n",
      "<frozen importlib._bootstrap>:219: RuntimeWarning: numpy.ufunc size changed, may indicate binary incompatibility. Expected 192 from C header, got 216 from PyObject\n"
     ]
    }
   ],
   "source": [
    "from pandas import read_csv\n",
    "from numpy import isnan\n",
    "from sklearn.impute import SimpleImputer\n",
    "data = read_csv('https://raw.githubusercontent.com/jbrownlee/Datasets/master/horse-colic.csv', header=None, na_values = \"?\")"
   ]
  },
  {
   "cell_type": "code",
   "execution_count": 30,
   "metadata": {},
   "outputs": [],
   "source": [
    "data = data.values"
   ]
  },
  {
   "cell_type": "code",
   "execution_count": 31,
   "metadata": {},
   "outputs": [],
   "source": [
    "ix = [i for i in range(data.shape[1]) if i != 23]\n",
    "X,y = data[:,ix], data[:,23]"
   ]
  },
  {
   "cell_type": "code",
   "execution_count": 32,
   "metadata": {},
   "outputs": [
    {
     "name": "stdout",
     "output_type": "stream",
     "text": [
      "Missing: 1605\n"
     ]
    }
   ],
   "source": [
    "print('Missing: %d' % sum(isnan(X).flatten()))"
   ]
  },
  {
   "cell_type": "code",
   "execution_count": 33,
   "metadata": {},
   "outputs": [],
   "source": [
    "imputer = SimpleImputer(strategy ='mean')"
   ]
  },
  {
   "cell_type": "code",
   "execution_count": 34,
   "metadata": {},
   "outputs": [
    {
     "name": "stdout",
     "output_type": "stream",
     "text": [
      "Missing : 0\n"
     ]
    }
   ],
   "source": [
    "imputer.fit(X)\n",
    "Xtrans = imputer.transform(X)\n",
    "print('Missing : %d' % sum(isnan(Xtrans).flatten()))"
   ]
  },
  {
   "cell_type": "code",
   "execution_count": null,
   "metadata": {},
   "outputs": [],
   "source": []
  },
  {
   "cell_type": "markdown",
   "metadata": {},
   "source": [
    "### Using Simple imputer in a pipeline to model "
   ]
  },
  {
   "cell_type": "code",
   "execution_count": 40,
   "metadata": {},
   "outputs": [],
   "source": [
    "from numpy import std\n",
    "from numpy import mean\n",
    "from pandas import read_csv \n",
    "from sklearn.ensemble import RandomForestClassifier\n",
    "from sklearn.impute import SimpleImputer\n",
    "from sklearn.model_selection import cross_val_score\n",
    "from sklearn.model_selection import RepeatedStratifiedKFold\n",
    "from sklearn.pipeline import Pipeline "
   ]
  },
  {
   "cell_type": "code",
   "execution_count": 41,
   "metadata": {},
   "outputs": [],
   "source": [
    "data = read_csv ('https://raw.githubusercontent.com/jbrownlee/Datasets/master/horse-colic.csv', header=None, na_values = \"?\")"
   ]
  },
  {
   "cell_type": "code",
   "execution_count": 45,
   "metadata": {},
   "outputs": [],
   "source": [
    "data = data.values\n",
    "ix = [i for i in range(data.shape[1]) if i != 23]\n",
    "X,y = data[:,ix],data[:,23]"
   ]
  },
  {
   "cell_type": "code",
   "execution_count": 46,
   "metadata": {},
   "outputs": [],
   "source": [
    "model = RandomForestClassifier()\n",
    "Imputer = SimpleImputer(strategy= 'mean')\n",
    "pipeline = Pipeline(steps = [('i', Imputer),('m', model)])"
   ]
  },
  {
   "cell_type": "code",
   "execution_count": 48,
   "metadata": {},
   "outputs": [],
   "source": [
    "cv = RepeatedStratifiedKFold(n_splits= 10, n_repeats= 3, random_state= 1)"
   ]
  },
  {
   "cell_type": "code",
   "execution_count": 49,
   "metadata": {},
   "outputs": [
    {
     "name": "stdout",
     "output_type": "stream",
     "text": [
      "Mean accuracy : 0.857 (0.050)\n"
     ]
    }
   ],
   "source": [
    "scores = cross_val_score(pipeline,X,y,scoring= 'accuracy', cv = cv, n_jobs= 1)\n",
    "print('Mean accuracy : %.3f (%.3f)' % (mean(scores),std(scores)))"
   ]
  },
  {
   "cell_type": "markdown",
   "metadata": {},
   "source": [
    "### trying different Imputers "
   ]
  },
  {
   "cell_type": "code",
   "execution_count": 51,
   "metadata": {},
   "outputs": [],
   "source": [
    "data = read_csv ('https://raw.githubusercontent.com/jbrownlee/Datasets/master/horse-colic.csv', header=None, na_values = \"?\")"
   ]
  },
  {
   "cell_type": "code",
   "execution_count": 54,
   "metadata": {},
   "outputs": [],
   "source": [
    "df = data.values\n",
    "ix = [i for i in range(df.shape[1]) if i != 23]\n",
    "X,y = df[:,ix],df[:,23]"
   ]
  },
  {
   "cell_type": "code",
   "execution_count": 56,
   "metadata": {},
   "outputs": [
    {
     "name": "stdout",
     "output_type": "stream",
     "text": [
      ">mean 0.858 (0.056)\n",
      ">median 0.874 (0.061)\n",
      ">constant 0.879 (0.051)\n"
     ]
    }
   ],
   "source": [
    "results = list()\n",
    "imput_strat = ['mean','median','constant']\n",
    "for s in imput_strat:\n",
    "    pipeline = Pipeline(steps = [('i', SimpleImputer(strategy = s)), ('m', RandomForestClassifier())])\n",
    "    cv = RepeatedStratifiedKFold(n_splits= 10, n_repeats= 3, random_state= 1)\n",
    "    scores = cross_val_score(pipeline,X,y , scoring= 'accuracy',cv= cv,n_jobs= -1)\n",
    "    results.append(scores)\n",
    "    print('>%s %.3f (%.3f)' % (s,mean(scores), std(scores)))"
   ]
  },
  {
   "cell_type": "code",
   "execution_count": 58,
   "metadata": {},
   "outputs": [
    {
     "data": {
      "image/png": "[encoded data removed]",
      "text/plain": [
       "<Figure size 432x288 with 1 Axes>"
      ]
     },
     "metadata": {
      "needs_background": "light"
     },
     "output_type": "display_data"
    }
   ],
   "source": [
    "from matplotlib import pyplot\n",
    "pyplot.boxplot(results, labels =imput_strat, showmeans = True )\n",
    "pyplot.show()"
   ]
  },
  {
   "cell_type": "code",
   "execution_count": null,
   "metadata": {},
   "outputs": [],
   "source": []
  },
  {
   "cell_type": "code",
   "execution_count": null,
   "metadata": {},
   "outputs": [],
   "source": []
  },
  {
   "cell_type": "code",
   "execution_count": null,
   "metadata": {},
   "outputs": [],
   "source": []
  },
  {
   "cell_type": "code",
   "execution_count": null,
   "metadata": {},
   "outputs": [],
   "source": []
  },
  {
   "cell_type": "code",
   "execution_count": null,
   "metadata": {},
   "outputs": [],
   "source": []
  },
  {
   "cell_type": "code",
   "execution_count": null,
   "metadata": {},
   "outputs": [],
   "source": []
  }
 ],
 "metadata": {
  "kernelspec": {
   "display_name": "Python 3",
   "language": "python",
   "name": "python3"
  },
  "language_info": {
   "codemirror_mode": {
    "name": "ipython",
    "version": 3
   },
   "file_extension": ".py",
   "mimetype": "text/x-python",
   "name": "python",
   "nbconvert_exporter": "python",
   "pygments_lexer": "ipython3",
   "version": "3.8.5"
  }
 },
 "nbformat": 4,
 "nbformat_minor": 4
}
