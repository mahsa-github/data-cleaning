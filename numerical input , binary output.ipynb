{
 "cells": [
  {
   "cell_type": "code",
   "execution_count": 13,
   "metadata": {},
   "outputs": [
    {
     "name": "stdout",
     "output_type": "stream",
     "text": [
      "Feature 0 : 16.527385\n",
      "Feature 1 : 131.325562\n",
      "Feature 2 : 0.042371\n",
      "Feature 3 : 1.415216\n",
      "Feature 4 : 12.778966\n",
      "Feature 5 : 49.209523\n",
      "Feature 6 : 13.377142\n",
      "Feature 7 : 25.126440\n"
     ]
    },
    {
     "data": {
      "image/png": "[encoded data removed]",
      "text/plain": [
       "<Figure size 432x288 with 1 Axes>"
      ]
     },
     "metadata": {
      "needs_background": "light"
     },
     "output_type": "display_data"
    }
   ],
   "source": [
    "import pandas as pd\n",
    "from pandas import read_csv\n",
    "from sklearn.model_selection import train_test_split\n",
    "from sklearn.feature_selection import SelectKBest\n",
    "from sklearn.feature_selection import f_classif\n",
    "from matplotlib import pyplot\n",
    "\n",
    "def load_data (filename):\n",
    "    data = pd.read_csv(filename, header = None)\n",
    "    df = data.values\n",
    "    X= df[: ,:-1]\n",
    "    y = df[:,-1]\n",
    "    return X,y\n",
    "\n",
    "def select_features(X_train,y_train,X_test):\n",
    "    fs = SelectKBest(score_func= f_classif , k='all' )\n",
    "    fs.fit(X_train,y_train)\n",
    "    X_train_fs = fs.transform(X_train)\n",
    "    X_test_fs = fs.transform (X_test)\n",
    "    return X_train_fs,X_test_fs,fs\n",
    "\n",
    "\n",
    "X,y = load_data('D:\\data science portfolio\\data\\pima-indians-diabetes.csv')\n",
    "X_train, X_test, y_train, y_test = train_test_split(X,y, test_size = 0.33, random_state = 1)\n",
    "X_train_fs , X_test_test,fs = select_features(X_train, y_train, X_test)\n",
    "\n",
    "for i in range (len(fs.scores_)):\n",
    "    print('Feature %d : %f'  % (i,fs.scores_[i]))\n",
    "\n",
    "pyplot.bar([i for i in range (len(fs.scores_))],fs.scores_)\n",
    "pyplot.show()\n"
   ]
  },
  {
   "cell_type": "code",
   "execution_count": 19,
   "metadata": {},
   "outputs": [
    {
     "name": "stdout",
     "output_type": "stream",
     "text": [
      "Accuracy: 78.74\n"
     ]
    }
   ],
   "source": [
    "import pandas as pd\n",
    "from pandas import read_csv\n",
    "from sklearn.model_selection import train_test_split\n",
    "from sklearn.feature_selection import SelectKBest\n",
    "from sklearn.feature_selection import f_classif\n",
    "from sklearn.linear_model import LogisticRegression\n",
    "from sklearn.metrics import accuracy_score\n",
    "from matplotlib import pyplot\n",
    "\n",
    "def load_data (filename):\n",
    "    data = pd.read_csv(filename, header = None)\n",
    "    df = data.values\n",
    "    X= df[: ,:-1]\n",
    "    y = df[:,-1]\n",
    "    return X,y\n",
    "\n",
    "def select_features(X_train,y_train,X_test):\n",
    "    fs = SelectKBest(score_func= f_classif , k=4 )\n",
    "    fs.fit(X_train,y_train)\n",
    "    X_train_fs = fs.transform(X_train)\n",
    "    X_test_fs = fs.transform (X_test)\n",
    "    return X_train_fs,X_test_fs,fs\n",
    "\n",
    "\n",
    "X,y = load_data('D:\\data science portfolio\\data\\pima-indians-diabetes.csv')\n",
    "X_train, X_test, y_train, y_test = train_test_split(X,y, test_size = 0.33, random_state = 1)\n",
    "X_train_fs , X_test_fs,fs = select_features(X_train, y_train, X_test)\n",
    "\n",
    "model = LogisticRegression(solver='liblinear')\n",
    "model.fit(X_train_fs,y_train)\n",
    "yhat = model.predict(X_test_fs)\n",
    "accuracy = accuracy_score(y_test, yhat)\n",
    "print('Accuracy: %.2f' % (accuracy*100))"
   ]
  },
  {
   "cell_type": "code",
   "execution_count": 21,
   "metadata": {},
   "outputs": [
    {
     "name": "stdout",
     "output_type": "stream",
     "text": [
      "Accuracy: 77.56\n"
     ]
    }
   ],
   "source": [
    "import pandas as pd\n",
    "from pandas import read_csv\n",
    "from sklearn.model_selection import train_test_split\n",
    "from sklearn.feature_selection import SelectKBest\n",
    "from sklearn.feature_selection import mutual_info_classif\n",
    "from sklearn.feature_selection import f_classif\n",
    "from sklearn.linear_model import LogisticRegression\n",
    "from sklearn.metrics import accuracy_score\n",
    "from matplotlib import pyplot\n",
    "\n",
    "def load_data (filename):\n",
    "    data = pd.read_csv(filename, header = None)\n",
    "    df = data.values\n",
    "    X= df[: ,:-1]\n",
    "    y = df[:,-1]\n",
    "    return X,y\n",
    "\n",
    "def select_features(X_train,y_train,X_test):\n",
    "    fs = SelectKBest(score_func= mutual_info_classif, k=4)\n",
    "    fs.fit(X_train,y_train)\n",
    "    X_train_fs = fs.transform(X_train)\n",
    "    X_test_fs = fs.transform (X_test)\n",
    "    return X_train_fs,X_test_fs,fs\n",
    "\n",
    "\n",
    "X,y = load_data('D:\\data science portfolio\\data\\pima-indians-diabetes.csv')\n",
    "X_train, X_test, y_train, y_test = train_test_split(X,y, test_size = 0.33, random_state = 1)\n",
    "X_train_fs , X_test_fs,fs = select_features(X_train, y_train, X_test)\n",
    "\n",
    "model = LogisticRegression(solver='liblinear')\n",
    "model.fit(X_train_fs,y_train)\n",
    "yhat = model.predict(X_test_fs)\n",
    "accuracy = accuracy_score(y_test, yhat)\n",
    "print('Accuracy: %.2f' % (accuracy*100))"
   ]
  },
  {
   "cell_type": "code",
   "execution_count": 1,
   "metadata": {},
   "outputs": [],
   "source": []
  },
  {
   "cell_type": "code",
   "execution_count": 10,
   "metadata": {},
   "outputs": [],
   "source": []
  }
 ],
 "metadata": {
  "kernelspec": {
   "display_name": "Python 3",
   "language": "python",
   "name": "python3"
  },
  "language_info": {
   "codemirror_mode": {
    "name": "ipython",
    "version": 3
   },
   "file_extension": ".py",
   "mimetype": "text/x-python",
   "name": "python",
   "nbconvert_exporter": "python",
   "pygments_lexer": "ipython3",
   "version": "3.8.5"
  }
 },
 "nbformat": 4,
 "nbformat_minor": 4
}
