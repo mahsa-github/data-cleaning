{
 "cells": [
  {
   "cell_type": "code",
   "execution_count": 49,
   "metadata": {},
   "outputs": [
    {
     "name": "stdout",
     "output_type": "stream",
     "text": [
      "0    238\n",
      "1    297\n",
      "2    927\n",
      "3    933\n",
      "4    179\n",
      "dtype: int64\n"
     ]
    }
   ],
   "source": [
    "import pandas as pd\n",
    "from numpy import unique\n",
    "\n",
    "df = pd.read_csv('https://raw.githubusercontent.com/jbrownlee/Datasets/master/oil-spill.csv',header = None)\n",
    "print(df.nunique().head(5))"
   ]
  },
  {
   "cell_type": "code",
   "execution_count": 50,
   "metadata": {},
   "outputs": [
    {
     "name": "stdout",
     "output_type": "stream",
     "text": [
      "(937, 50)\n"
     ]
    }
   ],
   "source": [
    "print(df.shape)"
   ]
  },
  {
   "cell_type": "code",
   "execution_count": 51,
   "metadata": {},
   "outputs": [
    {
     "name": "stdout",
     "output_type": "stream",
     "text": [
      "[22]\n"
     ]
    }
   ],
   "source": [
    "#this step is to delete colomns with zero variance \n",
    "counts = df.nunique()\n",
    "to_del = [i for i , v in enumerate(counts) if v == 1]\n",
    "print(to_del)"
   ]
  },
  {
   "cell_type": "code",
   "execution_count": 52,
   "metadata": {},
   "outputs": [
    {
     "name": "stdout",
     "output_type": "stream",
     "text": [
      "(937, 49)\n"
     ]
    }
   ],
   "source": [
    "#if we dont mention Axis here, a row will be removed\n",
    "df.drop(to_del,axis=1, inplace=True)\n",
    "print(df.shape)"
   ]
  },
  {
   "cell_type": "code",
   "execution_count": 53,
   "metadata": {},
   "outputs": [
    {
     "name": "stdout",
     "output_type": "stream",
     "text": [
      "[21, 23, 24, 25, 31, 35, 37, 38, 44, 48]\n",
      "(937, 39)\n"
     ]
    }
   ],
   "source": [
    "counts = df.nunique()\n",
    "dele = [i for i,v in enumerate(counts) if (float(v)/df.shape[0]*100) <1]\n",
    "print(dele)\n",
    "df.drop (dele, axis =1 , inplace = True)\n",
    "print(df.shape)"
   ]
  },
  {
   "cell_type": "markdown",
   "metadata": {},
   "source": [
    "#### Variance treshold"
   ]
  },
  {
   "cell_type": "code",
   "execution_count": 57,
   "metadata": {},
   "outputs": [],
   "source": [
    "import pandas as pd\n",
    "import numpy as np\n",
    "from numpy import unique\n",
    "from sklearn.feature_selection import VarianceThreshold\n",
    "from matplotlib import pyplot\n",
    "\n",
    "df = pd.read_csv('https://raw.githubusercontent.com/jbrownlee/Datasets/master/oil-spill.csv',header = None)"
   ]
  },
  {
   "cell_type": "code",
   "execution_count": 58,
   "metadata": {},
   "outputs": [
    {
     "name": "stdout",
     "output_type": "stream",
     "text": [
      "(937, 49) (937,)\n"
     ]
    }
   ],
   "source": [
    "dt = df.values\n",
    "X = dt[:,:-1]\n",
    "y= dt[:,-1]\n",
    "print (X.shape, y.shape)"
   ]
  },
  {
   "cell_type": "code",
   "execution_count": 73,
   "metadata": {},
   "outputs": [
    {
     "name": "stdout",
     "output_type": "stream",
     "text": [
      ">Treshold=0.00, Features=48\n",
      ">Treshold=0.10, Features=36\n",
      ">Treshold=0.20, Features=35\n",
      ">Treshold=0.30, Features=35\n",
      ">Treshold=0.40, Features=35\n",
      ">Treshold=0.50, Features=31\n"
     ]
    },
    {
     "data": {
      "image/png": "[encoded data removed]",
      "text/plain": [
       "<Figure size 432x288 with 1 Axes>"
      ]
     },
     "metadata": {
      "needs_background": "light"
     },
     "output_type": "display_data"
    }
   ],
   "source": [
    "from numpy import arange\n",
    "tresholds = arange(0.0,0.6,0.1)\n",
    "results = list()\n",
    "for t in tresholds:\n",
    "    process = VarianceThreshold(threshold=t)\n",
    "    X_new = process.fit_transform(X)\n",
    "    n_features = X_new.shape[1]   #X_new features \n",
    "    print('>Treshold=%.2f, Features=%d' %(t,n_features))\n",
    "    results.append(n_features)\n",
    "\n",
    "pyplot.plot(tresholds, results)\n",
    "pyplot.show()\n",
    "# the line plot of variance thresholds and number of features selected"
   ]
  },
  {
   "cell_type": "code",
   "execution_count": 75,
   "metadata": {},
   "outputs": [
    {
     "name": "stdout",
     "output_type": "stream",
     "text": [
      "(937, 50)\n",
      "(937, 50)\n"
     ]
    }
   ],
   "source": [
    "print(df.shape)\n",
    "df.drop_duplicates(inplace = True)\n",
    "print(df.shape)"
   ]
  },
  {
   "cell_type": "code",
   "execution_count": 36,
   "metadata": {},
   "outputs": [
    {
     "data": {
      "text/plain": [
       "50"
      ]
     },
     "execution_count": 36,
     "metadata": {},
     "output_type": "execute_result"
    }
   ],
   "source": [
    "data.shape[0] #rows\n",
    "data.shape[1] #columns"
   ]
  },
  {
   "cell_type": "code",
   "execution_count": 15,
   "metadata": {},
   "outputs": [],
   "source": [
    "from numpy import loadtxt\n",
    "data = loadtxt('https://raw.githubusercontent.com/jbrownlee/Datasets/master/oil-spill.csv', delimiter= ',')"
   ]
  },
  {
   "cell_type": "code",
   "execution_count": 17,
   "metadata": {},
   "outputs": [
    {
     "name": "stdout",
     "output_type": "stream",
     "text": [
      "0 238\n",
      "1 297\n",
      "2 927\n",
      "3 933\n",
      "4 179\n",
      "5 375\n",
      "6 820\n",
      "7 618\n",
      "8 561\n",
      "9 57\n",
      "10 577\n",
      "11 59\n",
      "12 73\n",
      "13 107\n",
      "14 53\n",
      "15 91\n",
      "16 893\n",
      "17 810\n",
      "18 170\n",
      "19 53\n",
      "20 68\n",
      "21 9\n",
      "22 1\n",
      "23 92\n",
      "24 9\n",
      "25 8\n",
      "26 9\n",
      "27 308\n",
      "28 447\n",
      "29 392\n",
      "30 107\n",
      "31 42\n",
      "32 4\n",
      "33 45\n",
      "34 141\n",
      "35 110\n",
      "36 3\n",
      "37 758\n",
      "38 9\n",
      "39 9\n",
      "40 388\n",
      "41 220\n",
      "42 644\n",
      "43 649\n",
      "44 499\n",
      "45 2\n",
      "46 937\n",
      "47 169\n",
      "48 286\n",
      "49 2\n"
     ]
    }
   ],
   "source": [
    "#this code prints the number of each unique value in a column\n",
    "for i in range (data.shape[1]):\n",
    "    print (i, len(unique(data[:,i])))"
   ]
  },
  {
   "cell_type": "code",
   "execution_count": 38,
   "metadata": {},
   "outputs": [
    {
     "name": "stdout",
     "output_type": "stream",
     "text": [
      "21 9, 1.0%\n",
      "22 1, 0.1%\n",
      "24 9, 1.0%\n",
      "25 8, 0.9%\n",
      "26 9, 1.0%\n",
      "32 4, 0.4%\n",
      "36 3, 0.3%\n",
      "38 9, 1.0%\n",
      "39 9, 1.0%\n",
      "45 2, 0.2%\n",
      "49 2, 0.2%\n"
     ]
    }
   ],
   "source": [
    "#for now we cant make decision wether variables with less unique values must be removed or not, in this case\n",
    "#we will check the percentage of each unique value in percentage to total unique values. \n",
    "for i in range(data.shape[1]):\n",
    "    num = len(unique(data[:,i]))\n",
    "    percentage = float(num)/ data.shape[0]*100\n",
    "    if percentage <1:\n",
    "        print('%d %d, %.1f%%' % (i,num,percentage))"
   ]
  }
 ],
 "metadata": {
  "kernelspec": {
   "display_name": "Python 3",
   "language": "python",
   "name": "python3"
  },
  "language_info": {
   "codemirror_mode": {
    "name": "ipython",
    "version": 3
   },
   "file_extension": ".py",
   "mimetype": "text/x-python",
   "name": "python",
   "nbconvert_exporter": "python",
   "pygments_lexer": "ipython3",
   "version": "3.8.5"
  }
 },
 "nbformat": 4,
 "nbformat_minor": 4
}
